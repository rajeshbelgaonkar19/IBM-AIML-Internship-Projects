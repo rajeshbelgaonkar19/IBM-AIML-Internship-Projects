{
 "cells": [
  {
   "cell_type": "markdown",
   "metadata": {
    "id": "EoRP98MpR-qj"
   },
   "source": [
    "## Import the required libraries"
   ]
  },
  {
   "cell_type": "markdown",
   "metadata": {
    "id": "37puETfgRzzg"
   },
   "source": [
    "# Data Preprocessing | IBM SkillsBuild Internship"
   ]
  },
  {
   "cell_type": "code",
   "execution_count": null,
   "metadata": {
    "id": "Ckpl7-Wxw6nn"
   },
   "outputs": [],
   "source": [
    "import numpy as np\n",
    "import pandas as pd\n",
    "import matplotlib.pyplot as plt"
   ]
  },
  {
   "cell_type": "markdown",
   "metadata": {
    "id": "RopL7tUZSQkT"
   },
   "source": [
    "## Import the dataset"
   ]
  },
  {
   "cell_type": "code",
   "execution_count": null,
   "metadata": {
    "id": "qK0H7prmxGaq"
   },
   "outputs": [],
   "source": [
    "dataset= pd.read_csv('Data.csv')\n",
    "x =dataset.iloc[:,:-1].values\n",
    "y =dataset.iloc[:,-1].values"
   ]
  },
  {
   "cell_type": "code",
   "execution_count": null,
   "metadata": {
    "colab": {
     "base_uri": "https://localhost:8080/"
    },
    "id": "f13flrDxx5Fr",
    "outputId": "348b4261-4648-4667-b9dc-6e652c72caf3"
   },
   "outputs": [
    {
     "name": "stdout",
     "output_type": "stream",
     "text": [
      "[['India' 44.0 72000.0]\n",
      " ['Thailand ' 27.0 48000.0]\n",
      " ['Indonesia' 30.0 54000.0]\n",
      " ['China' 38.0 61000.0]\n",
      " ['India' 40.0 nan]\n",
      " ['China' 35.0 58000.0]\n",
      " ['Thailand ' nan 52000.0]\n",
      " ['India' 48.0 79000.0]\n",
      " ['Indonesia' 50.0 83000.0]\n",
      " ['Thailand ' 37.0 67000.0]\n",
      " ['India' 25.0 nan]\n",
      " ['Thailand ' 36.0 60000.0]\n",
      " ['Indonesia' 42.0 64000.0]\n",
      " ['India' nan 40000.0]\n",
      " ['Thailand ' 52.0 90000.0]\n",
      " ['Indonesia' nan 55000.0]\n",
      " ['China' 41.0 nan]\n",
      " ['India' 29.0 48000.0]\n",
      " ['China' 43.0 70000.0]]\n"
     ]
    }
   ],
   "source": [
    "print(x)"
   ]
  },
  {
   "cell_type": "code",
   "execution_count": null,
   "metadata": {
    "colab": {
     "base_uri": "https://localhost:8080/"
    },
    "id": "1-fhvrsUx_xc",
    "outputId": "59785570-be3d-4bcd-9887-106923cf6866"
   },
   "outputs": [
    {
     "name": "stdout",
     "output_type": "stream",
     "text": [
      "['No' 'Yes' 'No' 'No' 'Yes' 'Yes' 'No' 'Yes' 'No' 'Yes' 'No' 'No' 'Yes'\n",
      " 'Yes' 'Yes' 'No' 'Yes' 'No' 'Yes']\n"
     ]
    }
   ],
   "source": [
    "print(y)"
   ]
  },
  {
   "cell_type": "markdown",
   "metadata": {
    "id": "nhfKXNxlSabC"
   },
   "source": [
    "## Solving for missing data"
   ]
  },
  {
   "cell_type": "code",
   "execution_count": null,
   "metadata": {
    "id": "HwSwnBfHyhYA"
   },
   "outputs": [],
   "source": [
    "from sklearn.impute import SimpleImputer\n",
    "imputer= SimpleImputer(missing_values=np.nan, strategy='mean')\n",
    "imputer.fit(x[:,1:3])\n",
    "x[:,1:3]=imputer.transform(x[:,1:3])"
   ]
  },
  {
   "cell_type": "code",
   "execution_count": null,
   "metadata": {
    "colab": {
     "base_uri": "https://localhost:8080/"
    },
    "id": "2j5SnSCHzzsW",
    "outputId": "f2528506-d018-4d88-a070-b5b015b74a49"
   },
   "outputs": [
    {
     "name": "stdout",
     "output_type": "stream",
     "text": [
      "[['India' 44.0 72000.0]\n",
      " ['Thailand ' 27.0 48000.0]\n",
      " ['Indonesia' 30.0 54000.0]\n",
      " ['China' 38.0 61000.0]\n",
      " ['India' 40.0 62562.5]\n",
      " ['China' 35.0 58000.0]\n",
      " ['Thailand ' 38.5625 52000.0]\n",
      " ['India' 48.0 79000.0]\n",
      " ['Indonesia' 50.0 83000.0]\n",
      " ['Thailand ' 37.0 67000.0]\n",
      " ['India' 25.0 62562.5]\n",
      " ['Thailand ' 36.0 60000.0]\n",
      " ['Indonesia' 42.0 64000.0]\n",
      " ['India' 38.5625 40000.0]\n",
      " ['Thailand ' 52.0 90000.0]\n",
      " ['Indonesia' 38.5625 55000.0]\n",
      " ['China' 41.0 62562.5]\n",
      " ['India' 29.0 48000.0]\n",
      " ['China' 43.0 70000.0]]\n"
     ]
    }
   ],
   "source": [
    "print(x)"
   ]
  },
  {
   "cell_type": "markdown",
   "metadata": {
    "id": "CriG6VzVSjcK"
   },
   "source": [
    "## Encoding categorical data"
   ]
  },
  {
   "cell_type": "markdown",
   "metadata": {
    "id": "AhSpdQWeSsFh"
   },
   "source": [
    "### Encoding the Independent Variable"
   ]
  },
  {
   "cell_type": "code",
   "execution_count": null,
   "metadata": {
    "id": "LSTQ3moG0azi"
   },
   "outputs": [],
   "source": [
    "from sklearn.compose import ColumnTransformer\n",
    "\n",
    "from sklearn.preprocessing import OneHotEncoder\n",
    "\n",
    "ct=ColumnTransformer(transformers=[('encoder', OneHotEncoder(),[0])], remainder='passthrough')\n",
    "\n",
    "x=np.array(ct.fit_transform(x))"
   ]
  },
  {
   "cell_type": "code",
   "execution_count": null,
   "metadata": {
    "colab": {
     "base_uri": "https://localhost:8080/"
    },
    "id": "pt-4VCQk10uh",
    "outputId": "0c2470ff-c7b2-4f20-bbda-a05c739e5fc6"
   },
   "outputs": [
    {
     "name": "stdout",
     "output_type": "stream",
     "text": [
      "[[0.0 1.0 0.0 0.0 44.0 72000.0]\n",
      " [0.0 0.0 0.0 1.0 27.0 48000.0]\n",
      " [0.0 0.0 1.0 0.0 30.0 54000.0]\n",
      " [1.0 0.0 0.0 0.0 38.0 61000.0]\n",
      " [0.0 1.0 0.0 0.0 40.0 62562.5]\n",
      " [1.0 0.0 0.0 0.0 35.0 58000.0]\n",
      " [0.0 0.0 0.0 1.0 38.5625 52000.0]\n",
      " [0.0 1.0 0.0 0.0 48.0 79000.0]\n",
      " [0.0 0.0 1.0 0.0 50.0 83000.0]\n",
      " [0.0 0.0 0.0 1.0 37.0 67000.0]\n",
      " [0.0 1.0 0.0 0.0 25.0 62562.5]\n",
      " [0.0 0.0 0.0 1.0 36.0 60000.0]\n",
      " [0.0 0.0 1.0 0.0 42.0 64000.0]\n",
      " [0.0 1.0 0.0 0.0 38.5625 40000.0]\n",
      " [0.0 0.0 0.0 1.0 52.0 90000.0]\n",
      " [0.0 0.0 1.0 0.0 38.5625 55000.0]\n",
      " [1.0 0.0 0.0 0.0 41.0 62562.5]\n",
      " [0.0 1.0 0.0 0.0 29.0 48000.0]\n",
      " [1.0 0.0 0.0 0.0 43.0 70000.0]]\n"
     ]
    }
   ],
   "source": [
    "print(x)"
   ]
  },
  {
   "cell_type": "markdown",
   "metadata": {
    "id": "DXh8oVSITIc6"
   },
   "source": [
    "### Encoding the Dependent Variable"
   ]
  },
  {
   "cell_type": "code",
   "execution_count": null,
   "metadata": {
    "id": "Ia50BZuN2FHp"
   },
   "outputs": [],
   "source": [
    "from sklearn.preprocessing import LabelEncoder\n",
    "le=LabelEncoder()\n",
    "y=le.fit_transform(y)"
   ]
  },
  {
   "cell_type": "code",
   "execution_count": null,
   "metadata": {
    "colab": {
     "base_uri": "https://localhost:8080/"
    },
    "id": "q3nSf9622Y8U",
    "outputId": "1d901f6c-4f53-4e13-d619-89dafa121e92"
   },
   "outputs": [
    {
     "name": "stdout",
     "output_type": "stream",
     "text": [
      "[0 1 0 0 1 1 0 1 0 1 0 0 1 1 1 0 1 0 1]\n"
     ]
    }
   ],
   "source": [
    "print(y)"
   ]
  },
  {
   "cell_type": "markdown",
   "metadata": {
    "id": "qb_vcgm3qZKW"
   },
   "source": [
    "## Splitting the dataset into the Training set and Test set"
   ]
  },
  {
   "cell_type": "code",
   "execution_count": null,
   "metadata": {
    "id": "ST8_TAJf3t0y"
   },
   "outputs": [],
   "source": [
    "from sklearn.model_selection import train_test_split\n",
    "X_train, X_test, y_train, y_test=train_test_split(x,y,test_size=0.2, random_state=0)"
   ]
  },
  {
   "cell_type": "code",
   "execution_count": null,
   "metadata": {
    "colab": {
     "base_uri": "https://localhost:8080/"
    },
    "id": "9OwKxGkG5EHp",
    "outputId": "59b1f2f4-050a-4813-daea-6920042636f2"
   },
   "outputs": [
    {
     "name": "stdout",
     "output_type": "stream",
     "text": [
      "[[-0.5         1.41421356 -0.5        -0.60302269 -2.45567606  0.07474013]\n",
      " [-0.5        -0.70710678 -0.5         1.6583124  -2.10929801 -1.15162956]\n",
      " [-0.5        -0.70710678  2.         -0.60302269  1.87404958  1.79586841]\n",
      " [ 2.         -0.70710678 -0.5        -0.60302269  0.6617264   0.70108345]]\n"
     ]
    }
   ],
   "source": [
    "print(X_test)"
   ]
  },
  {
   "cell_type": "markdown",
   "metadata": {
    "id": "TpGqbS4TqkIR"
   },
   "source": [
    "## Feature Scaling"
   ]
  },
  {
   "cell_type": "code",
   "execution_count": null,
   "metadata": {
    "id": "WmkgKBZj4ZBb"
   },
   "outputs": [],
   "source": [
    "from sklearn.preprocessing import StandardScaler\n",
    "sc=StandardScaler()\n",
    "X_train=sc.fit_transform(X_train)\n",
    "X_test=sc.transform(X_test)"
   ]
  },
  {
   "cell_type": "code",
   "execution_count": null,
   "metadata": {
    "colab": {
     "base_uri": "https://localhost:8080/"
    },
    "id": "s8fRXZrT48Xr",
    "outputId": "36b5b27e-f2f6-4bde-9dfe-9124fdd85960"
   },
   "outputs": [
    {
     "name": "stdout",
     "output_type": "stream",
     "text": [
      "[[-0.5        -0.70710678 -0.5         1.6583124   2.22042763  2.385368  ]\n",
      " [ 2.         -0.70710678 -0.5        -0.60302269  0.31534835  0.07474013]\n",
      " [-0.5        -0.70710678 -0.5         1.6583124  -0.1067999  -0.81477265]\n",
      " [-0.5         1.41421356 -0.5        -0.60302269  0.14215933  0.07474013]\n",
      " [-0.5        -0.70710678  2.         -0.60302269 -1.58973093 -0.6463442 ]\n",
      " [ 2.         -0.70710678 -0.5        -0.60302269 -0.7237858  -0.30948729]\n",
      " [-0.5         1.41421356 -0.5        -0.60302269 -0.1067999  -1.82534339]\n",
      " [-0.5        -0.70710678 -0.5         1.6583124  -0.37740775  0.44844076]\n",
      " [-0.5         1.41421356 -0.5        -0.60302269  1.52767153  1.4590115 ]\n",
      " [-0.5         1.41421356 -0.5        -0.60302269 -1.76291995 -1.15162956]\n",
      " [-0.5        -0.70710678 -0.5         1.6583124  -0.55059678 -0.14105883]\n",
      " [ 2.         -0.70710678 -0.5        -0.60302269 -0.20421873 -0.0568446 ]\n",
      " [-0.5         1.41421356 -0.5        -0.60302269  0.83491543  0.8695119 ]\n",
      " [-0.5        -0.70710678  2.         -0.60302269 -0.1067999  -0.56212997]\n",
      " [-0.5        -0.70710678  2.         -0.60302269  0.48853738  0.19579808]]\n",
      "[[-0.5         1.41421356 -0.5        -0.60302269 -2.45567606  0.07474013]\n",
      " [-0.5        -0.70710678 -0.5         1.6583124  -2.10929801 -1.15162956]\n",
      " [-0.5        -0.70710678  2.         -0.60302269  1.87404958  1.79586841]\n",
      " [ 2.         -0.70710678 -0.5        -0.60302269  0.6617264   0.70108345]]\n"
     ]
    }
   ],
   "source": [
    "print(X_train)\n",
    "print(X_test)"
   ]
  }
 ],
 "metadata": {
  "colab": {
   "provenance": []
  },
  "kernelspec": {
   "display_name": "Python 3",
   "name": "python3"
  }
 },
 "nbformat": 4,
 "nbformat_minor": 0
}
